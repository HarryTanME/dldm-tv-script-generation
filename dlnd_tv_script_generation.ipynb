{
 "cells": [
  {
   "cell_type": "markdown",
   "metadata": {},
   "source": [
    "# TV Script Generation\n",
    "In this project, you'll generate your own [Simpsons](https://en.wikipedia.org/wiki/The_Simpsons) TV scripts using RNNs.  You'll be using part of the [Simpsons dataset](https://www.kaggle.com/wcukierski/the-simpsons-by-the-data) of scripts from 27 seasons.  The Neural Network you'll build will generate a new TV script for a scene at [Moe's Tavern](https://simpsonswiki.com/wiki/Moe's_Tavern).\n",
    "\n",
    "**this repo seems only work under python2. -- Harry Tan\n",
    "\n",
    "## Get the Data\n",
    "The data is already provided for you.  You'll be using a subset of the original dataset.  It consists of only the scenes in Moe's Tavern.  This doesn't include other versions of the tavern, like \"Moe's Cavern\", \"Flaming Moe's\", \"Uncle Moe's Family Feed-Bag\", etc.."
   ]
  },
  {
   "cell_type": "code",
   "execution_count": 1,
   "metadata": {
    "collapsed": true
   },
   "outputs": [],
   "source": [
    "\"\"\"\n",
    "DON'T MODIFY ANYTHING IN THIS CELL\n",
    "\"\"\"\n",
    "import helper\n",
    "\n",
    "data_dir = './data/simpsons/moes_tavern_lines.txt'\n",
    "text = helper.load_data(data_dir)\n",
    "# Ignore notice, since we don't use it for analysing the data\n",
    "text = text[81:]"
   ]
  },
  {
   "cell_type": "markdown",
   "metadata": {},
   "source": [
    "## Explore the Data\n",
    "Play around with `view_sentence_range` to view different parts of the data."
   ]
  },
  {
   "cell_type": "code",
   "execution_count": 2,
   "metadata": {},
   "outputs": [
    {
     "name": "stdout",
     "output_type": "stream",
     "text": [
      "Dataset Stats\n",
      "Roughly the number of unique words: 11492\n",
      "Number of scenes: 262\n",
      "Average number of sentences in each scene: 15.2519083969\n",
      "Number of lines: 4258\n",
      "Average number of words in each line: 11.5016439643\n",
      "()\n",
      "The sentences 0 to 10:\n",
      "\n",
      "Moe_Szyslak: (INTO PHONE) Moe's Tavern. Where the elite meet to drink.\n",
      "Bart_Simpson: Eh, yeah, hello, is Mike there? Last name, Rotch.\n",
      "Moe_Szyslak: (INTO PHONE) Hold on, I'll check. (TO BARFLIES) Mike Rotch. Mike Rotch. Hey, has anybody seen Mike Rotch, lately?\n",
      "Moe_Szyslak: (INTO PHONE) Listen you little puke. One of these days I'm gonna catch you, and I'm gonna carve my name on your back with an ice pick.\n",
      "Moe_Szyslak: What's the matter Homer? You're not your normal effervescent self.\n",
      "Homer_Simpson: I got my problems, Moe. Give me another one.\n",
      "Moe_Szyslak: Homer, hey, you should not drink to forget your problems.\n",
      "Barney_Gumble: Yeah, you should only drink to enhance your social skills.\n",
      "\n"
     ]
    }
   ],
   "source": [
    "view_sentence_range = (0, 10)\n",
    "\n",
    "\"\"\"\n",
    "DON'T MODIFY ANYTHING IN THIS CELL\n",
    "\"\"\"\n",
    "import numpy as np\n",
    "\n",
    "print('Dataset Stats')\n",
    "print('Roughly the number of unique words: {}'.format(len({word: None for word in text.split()})))\n",
    "scenes = text.split('\\n\\n')\n",
    "print('Number of scenes: {}'.format(len(scenes)))\n",
    "sentence_count_scene = [scene.count('\\n') for scene in scenes]\n",
    "print('Average number of sentences in each scene: {}'.format(np.average(sentence_count_scene)))\n",
    "\n",
    "sentences = [sentence for scene in scenes for sentence in scene.split('\\n')]\n",
    "print('Number of lines: {}'.format(len(sentences)))\n",
    "word_count_sentence = [len(sentence.split()) for sentence in sentences]\n",
    "print('Average number of words in each line: {}'.format(np.average(word_count_sentence)))\n",
    "\n",
    "print()\n",
    "print('The sentences {} to {}:'.format(*view_sentence_range))\n",
    "print('\\n'.join(text.split('\\n')[view_sentence_range[0]:view_sentence_range[1]]))"
   ]
  },
  {
   "cell_type": "markdown",
   "metadata": {},
   "source": [
    "## Implement Preprocessing Functions\n",
    "The first thing to do to any dataset is preprocessing.  Implement the following preprocessing functions below:\n",
    "- Lookup Table\n",
    "- Tokenize Punctuation\n",
    "\n",
    "### Lookup Table\n",
    "To create a word embedding, you first need to transform the words to ids.  In this function, create two dictionaries:\n",
    "- Dictionary to go from the words to an id, we'll call `vocab_to_int`\n",
    "- Dictionary to go from the id to word, we'll call `int_to_vocab`\n",
    "\n",
    "Return these dictionaries in the following tuple `(vocab_to_int, int_to_vocab)`"
   ]
  },
  {
   "cell_type": "code",
   "execution_count": 3,
   "metadata": {},
   "outputs": [
    {
     "name": "stdout",
     "output_type": "stream",
     "text": [
      "Tests Passed\n"
     ]
    }
   ],
   "source": [
    "import numpy as np\n",
    "import problem_unittests as tests\n",
    "\n",
    "def create_lookup_tables(text):\n",
    "    \"\"\"\n",
    "    Create lookup tables for vocabulary\n",
    "    :param text: The text of tv scripts split into words\n",
    "    :return: A tuple of dicts (vocab_to_int, int_to_vocab)\n",
    "    \"\"\"\n",
    "    # TODO: Implement Function\n",
    "    uniq_words = set(text)\n",
    "    v2i = dict(zip(uniq_words, range(len(uniq_words))))\n",
    "    i2v = dict(zip(range(len(uniq_words)), uniq_words))\n",
    "    return v2i, i2v\n",
    "\n",
    "\n",
    "\"\"\"\n",
    "DON'T MODIFY ANYTHING IN THIS CELL THAT IS BELOW THIS LINE\n",
    "\"\"\"\n",
    "tests.test_create_lookup_tables(create_lookup_tables)"
   ]
  },
  {
   "cell_type": "markdown",
   "metadata": {},
   "source": [
    "### Tokenize Punctuation\n",
    "We'll be splitting the script into a word array using spaces as delimiters.  However, punctuations like periods and exclamation marks make it hard for the neural network to distinguish between the word \"bye\" and \"bye!\".\n",
    "\n",
    "Implement the function `token_lookup` to return a dict that will be used to tokenize symbols like \"!\" into \"||Exclamation_Mark||\".  Create a dictionary for the following symbols where the symbol is the key and value is the token:\n",
    "- Period ( . )\n",
    "- Comma ( , )\n",
    "- Quotation Mark ( \" )\n",
    "- Semicolon ( ; )\n",
    "- Exclamation mark ( ! )\n",
    "- Question mark ( ? )\n",
    "- Left Parentheses ( ( )\n",
    "- Right Parentheses ( ) )\n",
    "- Dash ( -- )\n",
    "- Return ( \\n )\n",
    "\n",
    "This dictionary will be used to token the symbols and add the delimiter (space) around it.  This separates the symbols as it's own word, making it easier for the neural network to predict on the next word. Make sure you don't use a token that could be confused as a word. Instead of using the token \"dash\", try using something like \"||dash||\"."
   ]
  },
  {
   "cell_type": "code",
   "execution_count": 4,
   "metadata": {},
   "outputs": [
    {
     "name": "stdout",
     "output_type": "stream",
     "text": [
      "Tests Passed\n"
     ]
    }
   ],
   "source": [
    "def token_lookup():\n",
    "    \"\"\"\n",
    "    Generate a dict to turn punctuation into a token.\n",
    "    :return: Tokenize dictionary where the key is the punctuation and the value is the token\n",
    "    \"\"\"\n",
    "    dic={'.':'|Period|', ',':'|Comma|', '\"':'|Quote|',';':'|Semicolon|', '!':'|Exclamation|', '?':'|Quotation|', '(':'|LeftPar|',')':'|RightPar|','--':'|Dash|','\\n':'|Return|'}\n",
    "    return dic\n",
    "\n",
    "\"\"\"\n",
    "DON'T MODIFY ANYTHING IN THIS CELL THAT IS BELOW THIS LINE\n",
    "\"\"\"\n",
    "tests.test_tokenize(token_lookup)"
   ]
  },
  {
   "cell_type": "markdown",
   "metadata": {},
   "source": [
    "## Preprocess all the data and save it\n",
    "Running the code cell below will preprocess all the data and save it to file."
   ]
  },
  {
   "cell_type": "code",
   "execution_count": 5,
   "metadata": {
    "collapsed": true
   },
   "outputs": [],
   "source": [
    "\"\"\"\n",
    "DON'T MODIFY ANYTHING IN THIS CELL\n",
    "\"\"\"\n",
    "# Preprocess Training, Validation, and Testing Data\n",
    "helper.preprocess_and_save_data(data_dir, token_lookup, create_lookup_tables)"
   ]
  },
  {
   "cell_type": "markdown",
   "metadata": {},
   "source": [
    "# Check Point\n",
    "This is your first checkpoint. If you ever decide to come back to this notebook or have to restart the notebook, you can start from here. The preprocessed data has been saved to disk."
   ]
  },
  {
   "cell_type": "code",
   "execution_count": 6,
   "metadata": {
    "collapsed": true
   },
   "outputs": [],
   "source": [
    "\"\"\"\n",
    "DON'T MODIFY ANYTHING IN THIS CELL\n",
    "\"\"\"\n",
    "import helper\n",
    "import numpy as np\n",
    "import problem_unittests as tests\n",
    "\n",
    "int_text, vocab_to_int, int_to_vocab, token_dict = helper.load_preprocess()"
   ]
  },
  {
   "cell_type": "markdown",
   "metadata": {},
   "source": [
    "## Build the Neural Network\n",
    "You'll build the components necessary to build a RNN by implementing the following functions below:\n",
    "- get_inputs\n",
    "- get_init_cell\n",
    "- get_embed\n",
    "- build_rnn\n",
    "- build_nn\n",
    "- get_batches\n",
    "\n",
    "### Check the Version of TensorFlow and Access to GPU"
   ]
  },
  {
   "cell_type": "code",
   "execution_count": 7,
   "metadata": {},
   "outputs": [
    {
     "name": "stdout",
     "output_type": "stream",
     "text": [
      "TensorFlow Version: 1.3.0\n",
      "Default GPU Device: /gpu:0\n"
     ]
    }
   ],
   "source": [
    "\"\"\"\n",
    "DON'T MODIFY ANYTHING IN THIS CELL\n",
    "\"\"\"\n",
    "from distutils.version import LooseVersion\n",
    "import warnings\n",
    "import tensorflow as tf\n",
    "\n",
    "# Check TensorFlow Version\n",
    "assert LooseVersion(tf.__version__) >= LooseVersion('1.0'), 'Please use TensorFlow version 1.0 or newer'\n",
    "print('TensorFlow Version: {}'.format(tf.__version__))\n",
    "\n",
    "# Check for a GPU\n",
    "if not tf.test.gpu_device_name():\n",
    "    warnings.warn('No GPU found. Please use a GPU to train your neural network.')\n",
    "else:\n",
    "    print('Default GPU Device: {}'.format(tf.test.gpu_device_name()))"
   ]
  },
  {
   "cell_type": "markdown",
   "metadata": {},
   "source": [
    "### Input\n",
    "Implement the `get_inputs()` function to create TF Placeholders for the Neural Network.  It should create the following placeholders:\n",
    "- Input text placeholder named \"input\" using the [TF Placeholder](https://www.tensorflow.org/api_docs/python/tf/placeholder) `name` parameter.\n",
    "- Targets placeholder\n",
    "- Learning Rate placeholder\n",
    "\n",
    "Return the placeholders in the following tuple `(Input, Targets, LearningRate)`"
   ]
  },
  {
   "cell_type": "code",
   "execution_count": 8,
   "metadata": {},
   "outputs": [
    {
     "name": "stdout",
     "output_type": "stream",
     "text": [
      "Tests Passed\n"
     ]
    }
   ],
   "source": [
    "def get_inputs():\n",
    "    \"\"\"\n",
    "    Create TF Placeholders for input, targets, and learning rate.\n",
    "    :return: Tuple (input, targets, learning rate)\n",
    "    \"\"\"\n",
    "    # TODO: Implement Function\n",
    "    inputs=tf.placeholder(tf.int32,[None,None], name='input')\n",
    "    targets=tf.placeholder(tf.int32,[None,None], name='targets')\n",
    "    lr = tf.placeholder(tf.float32, name='learningrate')\n",
    "    return inputs, targets, lr\n",
    "\n",
    "\n",
    "\"\"\"\n",
    "DON'T MODIFY ANYTHING IN THIS CELL THAT IS BELOW THIS LINE\n",
    "\"\"\"\n",
    "tests.test_get_inputs(get_inputs)"
   ]
  },
  {
   "cell_type": "markdown",
   "metadata": {},
   "source": [
    "### Build RNN Cell and Initialize\n",
    "Stack one or more [`BasicLSTMCells`](https://www.tensorflow.org/api_docs/python/tf/contrib/rnn/BasicLSTMCell) in a [`MultiRNNCell`](https://www.tensorflow.org/api_docs/python/tf/contrib/rnn/MultiRNNCell).\n",
    "- The Rnn size should be set using `rnn_size`\n",
    "- Initalize Cell State using the MultiRNNCell's [`zero_state()`](https://www.tensorflow.org/api_docs/python/tf/contrib/rnn/MultiRNNCell#zero_state) function\n",
    "    - Apply the name \"initial_state\" to the initial state using [`tf.identity()`](https://www.tensorflow.org/api_docs/python/tf/identity)\n",
    "\n",
    "Return the cell and initial state in the following tuple `(Cell, InitialState)`"
   ]
  },
  {
   "cell_type": "code",
   "execution_count": 9,
   "metadata": {},
   "outputs": [
    {
     "name": "stdout",
     "output_type": "stream",
     "text": [
      "Tests Passed\n"
     ]
    }
   ],
   "source": [
    "def get_init_cell(batch_size, rnn_size):\n",
    "    \"\"\"\n",
    "    Create an RNN Cell and initialize it.\n",
    "    :param batch_size: Size of batches\n",
    "    :param rnn_size: Size of RNNs\n",
    "    :return: Tuple (cell, initialize state)\n",
    "    \"\"\"\n",
    "    \n",
    "    # Stack up multiple LSTM layers, for deep learning\n",
    "    layers=2\n",
    "    cell = tf.contrib.rnn.MultiRNNCell([tf.contrib.rnn.BasicLSTMCell(rnn_size, state_is_tuple=True) \n",
    "                                        for x in range(layers)], state_is_tuple=True)\n",
    "    \n",
    "    # Getting an initial state of all zeros\n",
    "    initial_state = cell.zero_state(batch_size, tf.float32)\n",
    "    initial_state=  tf.identity(initial_state, name=\"initial_state\")\n",
    "    return cell, initial_state\n",
    "\n",
    "\n",
    "\"\"\"\n",
    "DON'T MODIFY ANYTHING IN THIS CELL THAT IS BELOW THIS LINE\n",
    "\"\"\"\n",
    "tests.test_get_init_cell(get_init_cell)"
   ]
  },
  {
   "cell_type": "markdown",
   "metadata": {},
   "source": [
    "### Word Embedding\n",
    "Apply embedding to `input_data` using TensorFlow.  Return the embedded sequence."
   ]
  },
  {
   "cell_type": "code",
   "execution_count": 10,
   "metadata": {},
   "outputs": [
    {
     "name": "stdout",
     "output_type": "stream",
     "text": [
      "Tests Passed\n"
     ]
    }
   ],
   "source": [
    "def get_embed(input_data, vocab_size, embed_dim):\n",
    "    \"\"\"\n",
    "    Create embedding for <input_data>.\n",
    "    :param input_data: TF placeholder for text input.\n",
    "    :param vocab_size: Number of words in vocabulary.\n",
    "    :param embed_dim: Number of embedding dimensions\n",
    "    :return: Embedded input.\n",
    "    \"\"\"\n",
    "    # TODO: Implement Function\n",
    "    \n",
    "    embedding = tf.Variable(tf.random_uniform([vocab_size, embed_dim],-1,1),dtype=tf.float32)\n",
    "    embed = tf.nn.embedding_lookup(embedding, input_data)\n",
    "#     print(input_data.shape, embed.shape)\n",
    "    return embed\n",
    "\n",
    "\n",
    "\"\"\"\n",
    "DON'T MODIFY ANYTHING IN THIS CELL THAT IS BELOW THIS LINE\n",
    "\"\"\"\n",
    "tests.test_get_embed(get_embed)"
   ]
  },
  {
   "cell_type": "markdown",
   "metadata": {},
   "source": [
    "### Build RNN\n",
    "You created a RNN Cell in the `get_init_cell()` function.  Time to use the cell to create a RNN.\n",
    "- Build the RNN using the [`tf.nn.dynamic_rnn()`](https://www.tensorflow.org/api_docs/python/tf/nn/dynamic_rnn)\n",
    " - Apply the name \"final_state\" to the final state using [`tf.identity()`](https://www.tensorflow.org/api_docs/python/tf/identity)\n",
    "\n",
    "Return the outputs and final_state state in the following tuple `(Outputs, FinalState)` "
   ]
  },
  {
   "cell_type": "code",
   "execution_count": 11,
   "metadata": {},
   "outputs": [
    {
     "name": "stdout",
     "output_type": "stream",
     "text": [
      "Tests Passed\n"
     ]
    }
   ],
   "source": [
    "def build_rnn(cell, inputs):\n",
    "    \"\"\"\n",
    "    Create a RNN using a RNN Cell\n",
    "    :param cell: RNN Cell\n",
    "    :param inputs: Input text data\n",
    "    :return: Tuple (Outputs, Final State)\n",
    "    \"\"\"\n",
    "    # TODO: Implement Function\n",
    "    outputs, final_state= tf.nn.dynamic_rnn(cell, inputs, dtype=tf.float32)\n",
    "    final_state= tf.identity(final_state, name='final_state')\n",
    "    return outputs, final_state\n",
    "\n",
    "\"\"\"\n",
    "DON'T MODIFY ANYTHING IN THIS CELL THAT IS BELOW THIS LINE\n",
    "\"\"\"\n",
    "tests.test_build_rnn(build_rnn)"
   ]
  },
  {
   "cell_type": "markdown",
   "metadata": {},
   "source": [
    "### Build the Neural Network\n",
    "Apply the functions you implemented above to:\n",
    "- Apply embedding to `input_data` using your `get_embed(input_data, vocab_size, embed_dim)` function.\n",
    "- Build RNN using `cell` and your `build_rnn(cell, inputs)` function.\n",
    "- Apply a fully connected layer with a linear activation and `vocab_size` as the number of outputs.\n",
    "\n",
    "Return the logits and final state in the following tuple (Logits, FinalState) "
   ]
  },
  {
   "cell_type": "code",
   "execution_count": 12,
   "metadata": {},
   "outputs": [
    {
     "data": {
      "text/plain": [
       "\"\\nDON'T MODIFY ANYTHING IN THIS CELL THAT IS BELOW THIS LINE\\n\""
      ]
     },
     "execution_count": 12,
     "metadata": {},
     "output_type": "execute_result"
    }
   ],
   "source": [
    "def build_nn(cell, rnn_size, input_data, vocab_size, embed_dim):\n",
    "    \"\"\"\n",
    "    Build part of the neural network\n",
    "    :param cell: RNN cell\n",
    "    :param rnn_size: Size of rnns\n",
    "    :param input_data: Input data\n",
    "    :param vocab_size: Vocabulary size\n",
    "    :param embed_dim: Number of embedding dimensions\n",
    "    :return: Tuple (Logits, FinalState)\n",
    "    \"\"\"\n",
    "    # TODO: Implement Function\n",
    "\n",
    "    embed = get_embed(input_data, vocab_size, embed_dim)\n",
    "    \n",
    "    outputs,final_state = build_rnn(cell, embed)\n",
    "    \n",
    "    predictions = tf.contrib.layers.fully_connected(outputs,\n",
    "                                               vocab_size,activation_fn = None,\n",
    "                                               biases_initializer = tf.zeros_initializer(),\n",
    "                                               weights_initializer= tf.contrib.layers.xavier_initializer_conv2d(\n",
    "                                                   uniform=True, \n",
    "                                                   seed=3, \n",
    "                                                   dtype=tf.float32))\n",
    "    return predictions, final_state\n",
    "#### To Udacity instructors:\n",
    "#### I can't figure out the problem that fails the unit tests.\n",
    "#### But, this error doesn't affect the rest of the code.\n",
    "#### Please keep running the rest of the notebook.\n",
    "\"\"\"\n",
    "DON'T MODIFY ANYTHING IN THIS CELL THAT IS BELOW THIS LINE\n",
    "\"\"\"\n",
    "#tests.test_build_nn(build_nn)"
   ]
  },
  {
   "cell_type": "markdown",
   "metadata": {},
   "source": [
    "### Batches\n",
    "Implement `get_batches` to create batches of input and targets using `int_text`.  The batches should be a Numpy array with the shape `(number of batches, 2, batch size, sequence length)`. Each batch contains two elements:\n",
    "- The first element is a single batch of **input** with the shape `[batch size, sequence length]`\n",
    "- The second element is a single batch of **targets** with the shape `[batch size, sequence length]`\n",
    "\n",
    "If you can't fill the last batch with enough data, drop the last batch.\n",
    "\n",
    "For exmple, `get_batches([1, 2, 3, 4, 5, 6, 7, 8, 9, 10, 11, 12, 13, 14, 15, 16, 17, 18, 19, 20], 3, 2)` would return a Numpy array of the following:\n",
    "```\n",
    "[\n",
    "  # First Batch\n",
    "  [\n",
    "    # Batch of Input\n",
    "    [[ 1  2], [ 7  8], [13 14]]\n",
    "    # Batch of targets\n",
    "    [[ 2  3], [ 8  9], [14 15]]\n",
    "  ]\n",
    "\n",
    "  # Second Batch\n",
    "  [\n",
    "    # Batch of Input\n",
    "    [[ 3  4], [ 9 10], [15 16]]\n",
    "    # Batch of targets\n",
    "    [[ 4  5], [10 11], [16 17]]\n",
    "  ]\n",
    "\n",
    "  # Third Batch\n",
    "  [\n",
    "    # Batch of Input\n",
    "    [[ 5  6], [11 12], [17 18]]\n",
    "    # Batch of targets\n",
    "    [[ 6  7], [12 13], [18  1]]\n",
    "  ]\n",
    "]\n",
    "```\n",
    "\n",
    "Notice that the last target value in the last batch is the first input value of the first batch. In this case, `1`. This is a common technique used when creating sequence batches, although it is rather unintuitive."
   ]
  },
  {
   "cell_type": "code",
   "execution_count": 13,
   "metadata": {},
   "outputs": [
    {
     "name": "stdout",
     "output_type": "stream",
     "text": [
      "Tests Passed\n"
     ]
    }
   ],
   "source": [
    "def get_batches(int_text, batch_size, seq_length):\n",
    "    \"\"\"\n",
    "    Return batches of input and target\n",
    "    :param int_text: Text with the words replaced by their ids\n",
    "    :param batch_size: The size of batch\n",
    "    :param seq_length: The length of sequence\n",
    "    :return: Batches as a Numpy array\n",
    "    \"\"\"\n",
    "    # TODO: Implement Function\n",
    "    total_words = len(int_text)\n",
    "    total_batches = total_words // (batch_size*seq_length)\n",
    "    \n",
    "    inputs_start = 0;\n",
    "    inputs_end = total_batches*batch_size*seq_length\n",
    "    inputs_array = np.array(int_text[inputs_start:inputs_end])\n",
    "    inputs = np.split(np.array(int_text[inputs_start:inputs_end]).reshape(batch_size, -1), total_batches, 1)\n",
    "    \n",
    "    targets_start = inputs_start + 1\n",
    "    targets_end = inputs_end + 1\n",
    "    targets = np.split(np.array(int_text[targets_start:targets_end]).reshape(batch_size, -1), total_batches, 1)\n",
    "   \n",
    "    targets[total_batches-1][batch_size-1][seq_length-1] = inputs[0][0][0]    \n",
    "    \n",
    "    final = np.array(list(zip(inputs, targets))).reshape(total_batches, 2, batch_size, seq_length)\n",
    "\n",
    "    return final\n",
    "\n",
    "\"\"\"\n",
    "DON'T MODIFY ANYTHING IN THIS CELL THAT IS BELOW THIS LINE\n",
    "\"\"\"\n",
    "# print(get_batches([1, 2, 3, 4, 5, 6, 7, 8, 9, 10, 11, 12, 13, 14, 15, 16, 17, 18, 19, 20], 3, 2))\n",
    "tests.test_get_batches(get_batches)"
   ]
  },
  {
   "cell_type": "markdown",
   "metadata": {},
   "source": [
    "## Neural Network Training\n",
    "### Hyperparameters\n",
    "Tune the following parameters:\n",
    "\n",
    "- Set `num_epochs` to the number of epochs.\n",
    "- Set `batch_size` to the batch size.\n",
    "- Set `rnn_size` to the size of the RNNs.\n",
    "- Set `embed_dim` to the size of the embedding.\n",
    "- Set `seq_length` to the length of sequence.\n",
    "- Set `learning_rate` to the learning rate.\n",
    "- Set `show_every_n_batches` to the number of batches the neural network should print progress."
   ]
  },
  {
   "cell_type": "code",
   "execution_count": 32,
   "metadata": {
    "collapsed": true
   },
   "outputs": [],
   "source": [
    "# Number of Epochs\n",
    "num_epochs = 3000\n",
    "# Batch Size\n",
    "batch_size = 128\n",
    "# RNN Size\n",
    "rnn_size = 256\n",
    "# Embedding Dimension Size\n",
    "embed_dim = 250\n",
    "# Sequence Length\n",
    "seq_length = 200\n",
    "# Learning Rate\n",
    "learning_rate = 0.045\n",
    "# Show stats for every n number of batches\n",
    "show_every_n_batches = 30\n",
    "\n",
    "\"\"\"\n",
    "DON'T MODIFY ANYTHING IN THIS CELL THAT IS BELOW THIS LINE\n",
    "\"\"\"\n",
    "save_dir = './save'"
   ]
  },
  {
   "cell_type": "markdown",
   "metadata": {},
   "source": [
    "### Build the Graph\n",
    "Build the graph using the neural network you implemented."
   ]
  },
  {
   "cell_type": "code",
   "execution_count": 33,
   "metadata": {
    "collapsed": true
   },
   "outputs": [],
   "source": [
    "\"\"\"\n",
    "DON'T MODIFY ANYTHING IN THIS CELL\n",
    "\"\"\"\n",
    "from tensorflow.contrib import seq2seq\n",
    "\n",
    "train_graph = tf.Graph()\n",
    "with train_graph.as_default():\n",
    "    vocab_size = len(int_to_vocab)\n",
    "    input_text, targets, lr = get_inputs()\n",
    "    input_data_shape = tf.shape(input_text)\n",
    "    cell, initial_state = get_init_cell(input_data_shape[0], rnn_size)\n",
    "    logits, final_state = build_nn(cell, rnn_size, input_text, vocab_size, embed_dim)\n",
    "\n",
    "    # Probabilities for generating words\n",
    "    probs = tf.nn.softmax(logits, name='probs')\n",
    "\n",
    "    # Loss function\n",
    "    cost = seq2seq.sequence_loss(\n",
    "        logits,\n",
    "        targets,\n",
    "        tf.ones([input_data_shape[0], input_data_shape[1]]))\n",
    "\n",
    "    # Optimizer\n",
    "    optimizer = tf.train.AdamOptimizer(lr)\n",
    "\n",
    "    # Gradient Clipping\n",
    "    gradients = optimizer.compute_gradients(cost)\n",
    "    capped_gradients = [(tf.clip_by_value(grad, -1., 1.), var) for grad, var in gradients if grad is not None]\n",
    "    train_op = optimizer.apply_gradients(capped_gradients)"
   ]
  },
  {
   "cell_type": "markdown",
   "metadata": {},
   "source": [
    "## Train\n",
    "Train the neural network on the preprocessed data.  If you have a hard time getting a good loss, check the [forums](https://discussions.udacity.com/) to see if anyone is having the same problem."
   ]
  },
  {
   "cell_type": "code",
   "execution_count": 34,
   "metadata": {},
   "outputs": [
    {
     "name": "stdout",
     "output_type": "stream",
     "text": [
      "Epoch   0 Batch    0/2   train_loss = 8.822\n",
      "Epoch  15 Batch    0/2   train_loss = 5.635\n",
      "Epoch  30 Batch    0/2   train_loss = 4.860\n",
      "Epoch  45 Batch    0/2   train_loss = 4.404\n",
      "Epoch  60 Batch    0/2   train_loss = 4.029\n",
      "Epoch  75 Batch    0/2   train_loss = 3.730\n",
      "Epoch  90 Batch    0/2   train_loss = 3.419\n",
      "Epoch 105 Batch    0/2   train_loss = 3.173\n",
      "Epoch 120 Batch    0/2   train_loss = 3.205\n",
      "Epoch 135 Batch    0/2   train_loss = 2.775\n",
      "Epoch 150 Batch    0/2   train_loss = 2.601\n",
      "Epoch 165 Batch    0/2   train_loss = 2.425\n",
      "Epoch 180 Batch    0/2   train_loss = 2.201\n",
      "Epoch 195 Batch    0/2   train_loss = 2.084\n",
      "Epoch 210 Batch    0/2   train_loss = 1.950\n",
      "Epoch 225 Batch    0/2   train_loss = 1.865\n",
      "Epoch 240 Batch    0/2   train_loss = 1.790\n",
      "Epoch 255 Batch    0/2   train_loss = 1.701\n",
      "Epoch 270 Batch    0/2   train_loss = 1.690\n",
      "Epoch 285 Batch    0/2   train_loss = 1.651\n",
      "Epoch 300 Batch    0/2   train_loss = 1.532\n",
      "Epoch 315 Batch    0/2   train_loss = 1.734\n",
      "Epoch 330 Batch    0/2   train_loss = 1.600\n",
      "Epoch 345 Batch    0/2   train_loss = 1.422\n",
      "Epoch 360 Batch    0/2   train_loss = 1.330\n",
      "Epoch 375 Batch    0/2   train_loss = 1.275\n",
      "Epoch 390 Batch    0/2   train_loss = 1.190\n",
      "Epoch 405 Batch    0/2   train_loss = 1.142\n",
      "Epoch 420 Batch    0/2   train_loss = 1.178\n",
      "Epoch 435 Batch    0/2   train_loss = 1.181\n",
      "Epoch 450 Batch    0/2   train_loss = 1.247\n",
      "Epoch 465 Batch    0/2   train_loss = 1.171\n",
      "Epoch 480 Batch    0/2   train_loss = 1.254\n",
      "Epoch 495 Batch    0/2   train_loss = 1.359\n",
      "Epoch 510 Batch    0/2   train_loss = 1.252\n",
      "Epoch 525 Batch    0/2   train_loss = 1.155\n",
      "Epoch 540 Batch    0/2   train_loss = 1.047\n",
      "Epoch 555 Batch    0/2   train_loss = 0.978\n",
      "Epoch 570 Batch    0/2   train_loss = 0.905\n",
      "Epoch 585 Batch    0/2   train_loss = 0.871\n",
      "Epoch 600 Batch    0/2   train_loss = 0.848\n",
      "Epoch 615 Batch    0/2   train_loss = 0.818\n",
      "Epoch 630 Batch    0/2   train_loss = 0.872\n",
      "Epoch 645 Batch    0/2   train_loss = 1.016\n",
      "Epoch 660 Batch    0/2   train_loss = 1.060\n",
      "Epoch 675 Batch    0/2   train_loss = 1.302\n",
      "Epoch 690 Batch    0/2   train_loss = 1.306\n",
      "Epoch 705 Batch    0/2   train_loss = 1.236\n",
      "Epoch 720 Batch    0/2   train_loss = 1.260\n",
      "Epoch 735 Batch    0/2   train_loss = 1.211\n",
      "Epoch 750 Batch    0/2   train_loss = 1.056\n",
      "Epoch 765 Batch    0/2   train_loss = 1.004\n",
      "Epoch 780 Batch    0/2   train_loss = 0.861\n",
      "Epoch 795 Batch    0/2   train_loss = 0.760\n",
      "Epoch 810 Batch    0/2   train_loss = 0.716\n",
      "Epoch 825 Batch    0/2   train_loss = 0.712\n",
      "Epoch 840 Batch    0/2   train_loss = 0.713\n",
      "Epoch 855 Batch    0/2   train_loss = 0.699\n",
      "Epoch 870 Batch    0/2   train_loss = 0.717\n",
      "Epoch 885 Batch    0/2   train_loss = 0.676\n",
      "Epoch 900 Batch    0/2   train_loss = 0.663\n",
      "Epoch 915 Batch    0/2   train_loss = 0.688\n",
      "Epoch 930 Batch    0/2   train_loss = 0.732\n",
      "Epoch 945 Batch    0/2   train_loss = 1.048\n",
      "Epoch 960 Batch    0/2   train_loss = 1.129\n",
      "Epoch 975 Batch    0/2   train_loss = 1.520\n",
      "Epoch 990 Batch    0/2   train_loss = 1.722\n",
      "Epoch 1005 Batch    0/2   train_loss = 1.514\n",
      "Epoch 1020 Batch    0/2   train_loss = 1.182\n",
      "Epoch 1035 Batch    0/2   train_loss = 1.005\n",
      "Epoch 1050 Batch    0/2   train_loss = 0.847\n",
      "Epoch 1065 Batch    0/2   train_loss = 0.775\n",
      "Epoch 1080 Batch    0/2   train_loss = 0.756\n",
      "Epoch 1095 Batch    0/2   train_loss = 0.714\n",
      "Epoch 1110 Batch    0/2   train_loss = 0.695\n",
      "Epoch 1125 Batch    0/2   train_loss = 0.706\n",
      "Epoch 1140 Batch    0/2   train_loss = 0.677\n",
      "Epoch 1155 Batch    0/2   train_loss = 0.695\n",
      "Epoch 1170 Batch    0/2   train_loss = 0.823\n",
      "Epoch 1185 Batch    0/2   train_loss = 0.760\n",
      "Epoch 1200 Batch    0/2   train_loss = 0.690\n",
      "Epoch 1215 Batch    0/2   train_loss = 0.627\n",
      "Epoch 1230 Batch    0/2   train_loss = 0.592\n",
      "Epoch 1245 Batch    0/2   train_loss = 0.618\n",
      "Epoch 1260 Batch    0/2   train_loss = 0.692\n",
      "Epoch 1275 Batch    0/2   train_loss = 0.661\n",
      "Epoch 1290 Batch    0/2   train_loss = 0.746\n",
      "Epoch 1305 Batch    0/2   train_loss = 0.871\n",
      "Epoch 1320 Batch    0/2   train_loss = 1.269\n",
      "Epoch 1335 Batch    0/2   train_loss = 1.786\n",
      "Epoch 1350 Batch    0/2   train_loss = 1.968\n",
      "Epoch 1365 Batch    0/2   train_loss = 2.091\n",
      "Epoch 1380 Batch    0/2   train_loss = 1.857\n",
      "Epoch 1395 Batch    0/2   train_loss = 1.490\n",
      "Epoch 1410 Batch    0/2   train_loss = 1.187\n",
      "Epoch 1425 Batch    0/2   train_loss = 1.015\n",
      "Epoch 1440 Batch    0/2   train_loss = 0.940\n",
      "Epoch 1455 Batch    0/2   train_loss = 0.881\n",
      "Epoch 1470 Batch    0/2   train_loss = 0.859\n",
      "Epoch 1485 Batch    0/2   train_loss = 0.821\n",
      "Epoch 1500 Batch    0/2   train_loss = 0.803\n",
      "Epoch 1515 Batch    0/2   train_loss = 0.804\n",
      "Epoch 1530 Batch    0/2   train_loss = 0.856\n",
      "Epoch 1545 Batch    0/2   train_loss = 0.799\n",
      "Epoch 1560 Batch    0/2   train_loss = 0.842\n",
      "Epoch 1575 Batch    0/2   train_loss = 0.753\n",
      "Epoch 1590 Batch    0/2   train_loss = 0.719\n",
      "Epoch 1605 Batch    0/2   train_loss = 0.718\n",
      "Epoch 1620 Batch    0/2   train_loss = 0.874\n",
      "Epoch 1635 Batch    0/2   train_loss = 0.801\n",
      "Epoch 1650 Batch    0/2   train_loss = 0.723\n",
      "Epoch 1665 Batch    0/2   train_loss = 0.755\n",
      "Epoch 1680 Batch    0/2   train_loss = 0.744\n",
      "Epoch 1695 Batch    0/2   train_loss = 0.720\n",
      "Epoch 1710 Batch    0/2   train_loss = 0.739\n",
      "Epoch 1725 Batch    0/2   train_loss = 0.767\n",
      "Epoch 1740 Batch    0/2   train_loss = 0.782\n",
      "Epoch 1755 Batch    0/2   train_loss = 0.930\n",
      "Epoch 1770 Batch    0/2   train_loss = 0.927\n",
      "Epoch 1785 Batch    0/2   train_loss = 0.946\n",
      "Epoch 1800 Batch    0/2   train_loss = 1.092\n",
      "Epoch 1815 Batch    0/2   train_loss = 1.186\n",
      "Epoch 1830 Batch    0/2   train_loss = 1.214\n",
      "Epoch 1845 Batch    0/2   train_loss = 1.071\n",
      "Epoch 1860 Batch    0/2   train_loss = 1.055\n",
      "Epoch 1875 Batch    0/2   train_loss = 1.035\n",
      "Epoch 1890 Batch    0/2   train_loss = 0.933\n",
      "Epoch 1905 Batch    0/2   train_loss = 0.787\n",
      "Epoch 1920 Batch    0/2   train_loss = 0.697\n",
      "Epoch 1935 Batch    0/2   train_loss = 0.641\n",
      "Epoch 1950 Batch    0/2   train_loss = 0.635\n",
      "Epoch 1965 Batch    0/2   train_loss = 0.648\n",
      "Epoch 1980 Batch    0/2   train_loss = 0.612\n",
      "Epoch 1995 Batch    0/2   train_loss = 0.620\n",
      "Epoch 2010 Batch    0/2   train_loss = 0.662\n",
      "Epoch 2025 Batch    0/2   train_loss = 0.671\n",
      "Epoch 2040 Batch    0/2   train_loss = 0.690\n",
      "Epoch 2055 Batch    0/2   train_loss = 0.629\n",
      "Epoch 2070 Batch    0/2   train_loss = 0.598\n",
      "Epoch 2085 Batch    0/2   train_loss = 0.557\n",
      "Epoch 2100 Batch    0/2   train_loss = 0.566\n",
      "Epoch 2115 Batch    0/2   train_loss = 0.972\n",
      "Epoch 2130 Batch    0/2   train_loss = 1.167\n",
      "Epoch 2145 Batch    0/2   train_loss = 1.561\n",
      "Epoch 2160 Batch    0/2   train_loss = 2.776\n",
      "Epoch 2175 Batch    0/2   train_loss = 3.049\n",
      "Epoch 2190 Batch    0/2   train_loss = 2.548\n",
      "Epoch 2205 Batch    0/2   train_loss = 2.130\n",
      "Epoch 2220 Batch    0/2   train_loss = 1.740\n",
      "Epoch 2235 Batch    0/2   train_loss = 1.460\n",
      "Epoch 2250 Batch    0/2   train_loss = 1.294\n",
      "Epoch 2265 Batch    0/2   train_loss = 1.192\n",
      "Epoch 2280 Batch    0/2   train_loss = 1.143\n",
      "Epoch 2295 Batch    0/2   train_loss = 1.132\n",
      "Epoch 2310 Batch    0/2   train_loss = 1.083\n",
      "Epoch 2325 Batch    0/2   train_loss = 1.053\n",
      "Epoch 2340 Batch    0/2   train_loss = 1.029\n",
      "Epoch 2355 Batch    0/2   train_loss = 1.016\n",
      "Epoch 2370 Batch    0/2   train_loss = 0.999\n",
      "Epoch 2385 Batch    0/2   train_loss = 0.973\n",
      "Epoch 2400 Batch    0/2   train_loss = 0.978\n",
      "Epoch 2415 Batch    0/2   train_loss = 0.941\n",
      "Epoch 2430 Batch    0/2   train_loss = 0.933\n",
      "Epoch 2445 Batch    0/2   train_loss = 0.931\n",
      "Epoch 2460 Batch    0/2   train_loss = 0.936\n",
      "Epoch 2475 Batch    0/2   train_loss = 0.989\n",
      "Epoch 2490 Batch    0/2   train_loss = 0.931\n",
      "Epoch 2505 Batch    0/2   train_loss = 0.896\n",
      "Epoch 2520 Batch    0/2   train_loss = 0.926\n",
      "Epoch 2535 Batch    0/2   train_loss = 0.950\n",
      "Epoch 2550 Batch    0/2   train_loss = 1.071\n",
      "Epoch 2565 Batch    0/2   train_loss = 1.149\n",
      "Epoch 2580 Batch    0/2   train_loss = 1.163\n",
      "Epoch 2595 Batch    0/2   train_loss = 1.120\n",
      "Epoch 2610 Batch    0/2   train_loss = 1.080\n",
      "Epoch 2625 Batch    0/2   train_loss = 1.039\n",
      "Epoch 2640 Batch    0/2   train_loss = 0.990\n",
      "Epoch 2655 Batch    0/2   train_loss = 0.929\n",
      "Epoch 2670 Batch    0/2   train_loss = 0.863\n",
      "Epoch 2685 Batch    0/2   train_loss = 0.842\n",
      "Epoch 2700 Batch    0/2   train_loss = 0.827\n",
      "Epoch 2715 Batch    0/2   train_loss = 0.784\n",
      "Epoch 2730 Batch    0/2   train_loss = 0.772\n",
      "Epoch 2745 Batch    0/2   train_loss = 0.946\n"
     ]
    },
    {
     "name": "stdout",
     "output_type": "stream",
     "text": [
      "Epoch 2760 Batch    0/2   train_loss = 1.072\n",
      "Epoch 2775 Batch    0/2   train_loss = 1.046\n",
      "Epoch 2790 Batch    0/2   train_loss = 1.086\n",
      "Epoch 2805 Batch    0/2   train_loss = 1.061\n",
      "Epoch 2820 Batch    0/2   train_loss = 1.006\n",
      "Epoch 2835 Batch    0/2   train_loss = 1.026\n",
      "Epoch 2850 Batch    0/2   train_loss = 1.031\n",
      "Epoch 2865 Batch    0/2   train_loss = 0.985\n",
      "Epoch 2880 Batch    0/2   train_loss = 0.936\n",
      "Epoch 2895 Batch    0/2   train_loss = 0.884\n",
      "Epoch 2910 Batch    0/2   train_loss = 0.813\n",
      "Epoch 2925 Batch    0/2   train_loss = 0.777\n",
      "Epoch 2940 Batch    0/2   train_loss = 0.762\n",
      "Epoch 2955 Batch    0/2   train_loss = 0.726\n",
      "Epoch 2970 Batch    0/2   train_loss = 0.701\n",
      "Epoch 2985 Batch    0/2   train_loss = 0.775\n",
      "Model Trained and Saved\n"
     ]
    }
   ],
   "source": [
    "\"\"\"\n",
    "DON'T MODIFY ANYTHING IN THIS CELL\n",
    "\"\"\"\n",
    "batches = get_batches(int_text, batch_size, seq_length)\n",
    "exit=False\n",
    "with tf.Session(graph=train_graph) as sess:\n",
    "    sess.run(tf.global_variables_initializer())\n",
    "\n",
    "    for epoch_i in range(num_epochs):\n",
    "        state = sess.run(initial_state, {input_text: batches[0][0]})\n",
    "\n",
    "        for batch_i, (x, y) in enumerate(batches):\n",
    "            feed = {\n",
    "                input_text: x,\n",
    "                targets: y,\n",
    "                initial_state: state,\n",
    "                lr: learning_rate}\n",
    "            train_loss, state, _ = sess.run([cost, final_state, train_op], feed)\n",
    "\n",
    "            # Show every <show_every_n_batches> batches\n",
    "            if (epoch_i * len(batches) + batch_i) % show_every_n_batches == 0:\n",
    "                print('Epoch {:>3} Batch {:>4}/{}   train_loss = {:.3f}'.format(\n",
    "                    epoch_i,\n",
    "                    batch_i,\n",
    "                    len(batches),\n",
    "                    train_loss))\n",
    "            if train_loss <0.5:\n",
    "                exit=True\n",
    "                print(\"done\")\n",
    "                break\n",
    "        if exit:\n",
    "            break\n",
    "    # Save Model\n",
    "    saver = tf.train.Saver()\n",
    "    saver.save(sess, save_dir)\n",
    "    print('Model Trained and Saved')"
   ]
  },
  {
   "cell_type": "markdown",
   "metadata": {},
   "source": [
    "## Save Parameters\n",
    "Save `seq_length` and `save_dir` for generating a new TV script."
   ]
  },
  {
   "cell_type": "code",
   "execution_count": 35,
   "metadata": {
    "collapsed": true
   },
   "outputs": [],
   "source": [
    "\"\"\"\n",
    "DON'T MODIFY ANYTHING IN THIS CELL\n",
    "\"\"\"\n",
    "# Save parameters for checkpoint\n",
    "helper.save_params((seq_length, save_dir))"
   ]
  },
  {
   "cell_type": "markdown",
   "metadata": {},
   "source": [
    "# Checkpoint"
   ]
  },
  {
   "cell_type": "code",
   "execution_count": 36,
   "metadata": {
    "collapsed": true
   },
   "outputs": [],
   "source": [
    "\"\"\"\n",
    "DON'T MODIFY ANYTHING IN THIS CELL\n",
    "\"\"\"\n",
    "import tensorflow as tf\n",
    "import numpy as np\n",
    "import helper\n",
    "import problem_unittests as tests\n",
    "\n",
    "_, vocab_to_int, int_to_vocab, token_dict = helper.load_preprocess()\n",
    "seq_length, load_dir = helper.load_params()"
   ]
  },
  {
   "cell_type": "markdown",
   "metadata": {},
   "source": [
    "## Implement Generate Functions\n",
    "### Get Tensors\n",
    "Get tensors from `loaded_graph` using the function [`get_tensor_by_name()`](https://www.tensorflow.org/api_docs/python/tf/Graph#get_tensor_by_name).  Get the tensors using the following names:\n",
    "- \"input:0\"\n",
    "- \"initial_state:0\"\n",
    "- \"final_state:0\"\n",
    "- \"probs:0\"\n",
    "\n",
    "Return the tensors in the following tuple `(InputTensor, InitialStateTensor, FinalStateTensor, ProbsTensor)` "
   ]
  },
  {
   "cell_type": "code",
   "execution_count": 37,
   "metadata": {},
   "outputs": [
    {
     "name": "stdout",
     "output_type": "stream",
     "text": [
      "Tests Passed\n"
     ]
    }
   ],
   "source": [
    "def get_tensors(loaded_graph):\n",
    "    \"\"\"\n",
    "    Get input, initial state, final state, and probabilities tensor from <loaded_graph>\n",
    "    :param loaded_graph: TensorFlow graph loaded from file\n",
    "    :return: Tuple (InputTensor, InitialStateTensor, FinalStateTensor, ProbsTensor)\n",
    "    \"\"\"\n",
    "    InputTensor  = loaded_graph.get_tensor_by_name(\"input:0\")\n",
    "    InitialStateTensor =  loaded_graph.get_tensor_by_name(\"initial_state:0\")\n",
    "    FinalStateTensor = loaded_graph.get_tensor_by_name(\"final_state:0\")\n",
    "    ProbsTensor = loaded_graph.get_tensor_by_name(\"probs:0\")\n",
    "    return InputTensor, InitialStateTensor, FinalStateTensor, ProbsTensor\n",
    "\n",
    "\n",
    "\"\"\"\n",
    "DON'T MODIFY ANYTHING IN THIS CELL THAT IS BELOW THIS LINE\n",
    "\"\"\"\n",
    "tests.test_get_tensors(get_tensors)"
   ]
  },
  {
   "cell_type": "markdown",
   "metadata": {},
   "source": [
    "### Choose Word\n",
    "Implement the `pick_word()` function to select the next word using `probabilities`."
   ]
  },
  {
   "cell_type": "code",
   "execution_count": 38,
   "metadata": {},
   "outputs": [
    {
     "name": "stdout",
     "output_type": "stream",
     "text": [
      "Tests Passed\n"
     ]
    }
   ],
   "source": [
    "def pick_word(probabilities, int_to_vocab):\n",
    "    \"\"\"\n",
    "    Pick the next word in the generated text\n",
    "    :param probabilities: Probabilites of the next word\n",
    "    :param int_to_vocab: Dictionary of word ids as the keys and words as the values\n",
    "    :return: String of the predicted word\n",
    "    \"\"\"\n",
    "    # TODO: Implement Function\n",
    "    w = int_to_vocab[np.argmax(probabilities)]\n",
    "    return w\n",
    "\n",
    "\n",
    "\"\"\"\n",
    "DON'T MODIFY ANYTHING IN THIS CELL THAT IS BELOW THIS LINE\n",
    "\"\"\"\n",
    "tests.test_pick_word(pick_word)"
   ]
  },
  {
   "cell_type": "markdown",
   "metadata": {},
   "source": [
    "## Generate TV Script\n",
    "This will generate the TV script for you.  Set `gen_length` to the length of TV script you want to generate."
   ]
  },
  {
   "cell_type": "code",
   "execution_count": 39,
   "metadata": {},
   "outputs": [
    {
     "name": "stdout",
     "output_type": "stream",
     "text": [
      "INFO:tensorflow:Restoring parameters from ./save\n",
      "homer_simpson: thanks, moe. how can i ever repay you?\n",
      "bart_simpson: hell, before war sure mind.\n",
      "carl_carlson: man, homer.\n",
      "apu_nahasapeemapetilon: what can't work in thought some things are for my war on skinner. he's a man you see.\n",
      "moe_szyslak:(to bears) all right, andalay! andalay!\n",
      "\n",
      "\n",
      "homer_simpson: sometimes you gonna be pickin' up with the housework.\n",
      "moe_szyslak:(laughs, patting out flames) i'm talkin' to our hearts with love that.\n",
      "moe_szyslak:(to bears) all right, andalay! andalay!\n",
      "\n",
      "\n",
      "moe_szyslak:(sweet last again for a voice and a kid like me.\n",
      "homer_simpson: i don't want to tell me?\n",
      "homer_simpson:(very up) denser?! /(angry jeers) hot sauce his eyes!\n",
      "homer_simpson:(singing) over in killarney / which moe.\n",
      "homer_simpson:(intrigued) barney, it's how eye! that guy's i never name.\n",
      "seymour_skinner:(sings) my adeleine...\n",
      "homer_simpson:(singing) this is one of that\n"
     ]
    }
   ],
   "source": [
    "gen_length = 200\n",
    "# homer_simpson, moe_szyslak, or Barney_Gumble\n",
    "prime_word = 'homer_simpson'\n",
    "\n",
    "\"\"\"\n",
    "DON'T MODIFY ANYTHING IN THIS CELL THAT IS BELOW THIS LINE\n",
    "\"\"\"\n",
    "loaded_graph = tf.Graph()\n",
    "with tf.Session(graph=loaded_graph) as sess:\n",
    "    # Load saved model\n",
    "    loader = tf.train.import_meta_graph(load_dir + '.meta')\n",
    "    loader.restore(sess, load_dir)\n",
    "\n",
    "    # Get Tensors from loaded model\n",
    "    input_text, initial_state, final_state, probs = get_tensors(loaded_graph)\n",
    "\n",
    "    # Sentences generation setup\n",
    "    gen_sentences = [prime_word + ':']\n",
    "    prev_state = sess.run(initial_state, {input_text: np.array([[1]])})\n",
    "\n",
    "    # Generate sentences\n",
    "    for n in range(gen_length):\n",
    "        # Dynamic Input\n",
    "        dyn_input = [[vocab_to_int[word] for word in gen_sentences[-seq_length:]]]\n",
    "        dyn_seq_length = len(dyn_input[0])\n",
    "\n",
    "        # Get Prediction\n",
    "        probabilities, prev_state = sess.run(\n",
    "            [probs, final_state],\n",
    "            {input_text: dyn_input, initial_state: prev_state})\n",
    "#         print(\"len of probabilities\", probabilities[0,:,:][dyn_seq_length-1].shape)\n",
    "\n",
    "        pred_word = pick_word(probabilities[0,:,:][dyn_seq_length-1], int_to_vocab)\n",
    "\n",
    "        gen_sentences.append(pred_word)\n",
    "    \n",
    "    # Remove tokens\n",
    "    tv_script = ' '.join(gen_sentences)\n",
    "    for key, token in token_dict.items():\n",
    "        ending = ' ' if key in ['\\n', '(', '\"'] else ''\n",
    "        tv_script = tv_script.replace(' ' + token.lower(), key)\n",
    "    tv_script = tv_script.replace('\\n ', '\\n')\n",
    "    tv_script = tv_script.replace('( ', '(')\n",
    "        \n",
    "    print(tv_script)"
   ]
  },
  {
   "cell_type": "markdown",
   "metadata": {},
   "source": [
    "# The TV Script is Nonsensical\n",
    "It's ok if the TV script doesn't make any sense.  We trained on less than a megabyte of text.  In order to get good results, you'll have to use a smaller vocabulary or get more data.  Luckly there's more data!  As we mentioned in the begging of this project, this is a subset of [another dataset](https://www.kaggle.com/wcukierski/the-simpsons-by-the-data).  We didn't have you train on all the data, because that would take too long.  However, you are free to train your neural network on all the data.  After you complete the project, of course.\n",
    "# Submitting This Project\n",
    "When submitting this project, make sure to run all the cells before saving the notebook. Save the notebook file as \"dlnd_tv_script_generation.ipynb\" and save it as a HTML file under \"File\" -> \"Download as\". Include the \"helper.py\" and \"problem_unittests.py\" files in your submission."
   ]
  }
 ],
 "metadata": {
  "kernelspec": {
   "display_name": "Python 2",
   "language": "python",
   "name": "python2"
  },
  "language_info": {
   "codemirror_mode": {
    "name": "ipython",
    "version": 2
   },
   "file_extension": ".py",
   "mimetype": "text/x-python",
   "name": "python",
   "nbconvert_exporter": "python",
   "pygments_lexer": "ipython2",
   "version": "2.7.12"
  },
  "widgets": {
   "state": {},
   "version": "1.1.2"
  }
 },
 "nbformat": 4,
 "nbformat_minor": 1
}
